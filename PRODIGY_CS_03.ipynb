{
  "nbformat": 4,
  "nbformat_minor": 0,
  "metadata": {
    "colab": {
      "provenance": []
    },
    "kernelspec": {
      "name": "python3",
      "display_name": "Python 3"
    },
    "language_info": {
      "name": "python"
    }
  },
  "cells": [
    {
      "cell_type": "code",
      "execution_count": 1,
      "metadata": {
        "id": "sOX1amXJYhYd"
      },
      "outputs": [],
      "source": [
        "#Define the Evaluation Criteria\n",
        "#A strong password should be atleast:\n",
        "  #8 character long\n",
        "  #include upper case letters\n",
        "  #include lower case letters\n",
        "  #include numbers\n",
        "  #include special characters\n",
        "\n",
        "import re     #import Regular Expression for pattern matching\n",
        "def password_strength(password):\n",
        "  score = 0     #Initialize the strength score\n",
        "  feedback = []     #Initialize feedback list\n",
        "\n",
        "  #Check length of password\n",
        "  if len (password) >=8:\n",
        "    score += 1\n",
        "  else:\n",
        "    feedback.append(\"Password should be atleast eight characters long\")\n",
        "\n",
        "  #Check for uppercase letters\n",
        "  if re.search(r\"[A-Z]\", password):\n",
        "    score += 1\n",
        "  else:\n",
        "    feedback.append(\"Password should include atleast one upper case letter\")\n",
        "\n",
        "  #Check for lower case letters\n",
        "  if re.search(r\"[a-z]\", password):\n",
        "    score += 1\n",
        "  else:\n",
        "    feedback.append(\"Password should include atleast one lower case letter\")\n",
        "\n",
        "  #Check for numbers\n",
        "  if re.search(r\"\\d\", password):\n",
        "    score += 1\n",
        "  else:\n",
        "    feedback.append(\"Password should include atleast one number\")\n",
        "\n",
        "  #Check for special characters\n",
        "  if re.search(r\"[\\W_]\", password):\n",
        "    score += 1\n",
        "  else:\n",
        "    feedback.append(\"Password should include atleast one special character (e.g., @, #, $).\")\n",
        "\n",
        "  #Determine password strength\n",
        "  if score == 5:\n",
        "    strength = \"Strong\"\n",
        "  elif score >= 3:\n",
        "    strength = \"Moderate\"\n",
        "  else:\n",
        "    strength = \"Weak\"\n",
        "\n",
        "  #Display Results\n",
        "  print(f\"Password Strength is: {strength} ({score}/5)\")\n",
        "\n",
        "  if feedback:\n",
        "    print(\"Sugggestion for improvement\")\n",
        "    for suggestion in feedback:\n",
        "      print(suggestion)\n"
      ]
    },
    {
      "cell_type": "code",
      "source": [
        "#User Interaction\n",
        "password = input(\"Enter your password: \")\n",
        "password_strength(password)"
      ],
      "metadata": {
        "colab": {
          "base_uri": "https://localhost:8080/"
        },
        "id": "ShTVnGssOQVf",
        "outputId": "dde5bd1d-c567-4e7f-c0f2-a489c8ed7570"
      },
      "execution_count": 2,
      "outputs": [
        {
          "output_type": "stream",
          "name": "stdout",
          "text": [
            "Enter your password: Prodigy1@\n",
            "Password Strength is: Strong (5/5)\n"
          ]
        }
      ]
    },
    {
      "cell_type": "code",
      "source": [
        "#Test for Strong, Moderate, Weak password\n",
        "passwordtest = [\"Password123.\", \"Password\", \"pass\"]\n",
        "for password in passwordtest:\n",
        "  password_strength(password)\n",
        "  print(\"\\n\")"
      ],
      "metadata": {
        "colab": {
          "base_uri": "https://localhost:8080/"
        },
        "id": "4kN-PEa3PYbj",
        "outputId": "1cb0ff28-8c30-4e55-a649-2b1974759804"
      },
      "execution_count": 5,
      "outputs": [
        {
          "output_type": "stream",
          "name": "stdout",
          "text": [
            "Password Strength is: Strong (5/5)\n",
            "\n",
            "\n",
            "Password Strength is: Moderate (3/5)\n",
            "Sugggestion for improvement\n",
            "Password should include atleast one number\n",
            "Password should include atleast one special character (e.g., @, #, $).\n",
            "\n",
            "\n",
            "Password Strength is: Weak (1/5)\n",
            "Sugggestion for improvement\n",
            "Password should be atleast eight characters long\n",
            "Password should include atleast one upper case letter\n",
            "Password should include atleast one number\n",
            "Password should include atleast one special character (e.g., @, #, $).\n",
            "\n",
            "\n"
          ]
        }
      ]
    }
  ]
}